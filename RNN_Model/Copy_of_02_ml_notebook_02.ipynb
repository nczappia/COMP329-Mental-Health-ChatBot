{
  "nbformat": 4,
  "nbformat_minor": 0,
  "metadata": {
    "colab": {
      "provenance": []
    },
    "kernelspec": {
      "name": "python3",
      "display_name": "Python 3"
    },
    "language_info": {
      "name": "python"
    }
  },
  "cells": [
    {
      "cell_type": "code",
      "source": [
        "import pandas as pd\n",
        "import numpy as np\n",
        "from sklearn.model_selection import train_test_split\n",
        "from sklearn.metrics import precision_score, recall_score, f1_score\n",
        "from tensorflow.keras.preprocessing.text import Tokenizer\n",
        "from tensorflow.keras.preprocessing.sequence import pad_sequences\n",
        "from tensorflow.keras.models import Sequential\n",
        "from tensorflow.keras.layers import Embedding, LSTM, Dense, Bidirectional\n",
        "from tensorflow.keras.callbacks import EarlyStopping\n",
        "\n",
        "# Load the dataset\n",
        "data = pd.read_csv(\"emotions.csv\")\n",
        "\n",
        "# Data preprocessing\n",
        "X = data['text']\n",
        "y = data['label']\n",
        "\n",
        "# Tokenization\n",
        "tokenizer = Tokenizer()\n",
        "tokenizer.fit_on_texts(X)\n",
        "X = tokenizer.texts_to_sequences(X)\n",
        "\n",
        "# Padding sequences\n",
        "max_length = 100  # Define your maximum sequence length\n",
        "X = pad_sequences(X, maxlen=max_length)\n",
        "\n",
        "# Convert labels to one-hot encoding\n",
        "num_classes = len(data['label'].unique())\n",
        "y = pd.get_dummies(y)\n",
        "\n",
        "# Split the data into training and testing sets\n",
        "X_train, X_test, y_train, y_test = train_test_split(X, y, test_size=0.2, random_state=42)\n",
        "\n",
        "# Build the RNN model\n",
        "model = Sequential()\n",
        "model.add(Embedding(input_dim=len(tokenizer.word_index)+1, output_dim=64, input_length=max_length))\n",
        "model.add(Bidirectional(LSTM(64)))\n",
        "model.add(Dense(num_classes, activation='softmax'))\n",
        "\n",
        "# Compile the model\n",
        "model.compile(loss='categorical_crossentropy', optimizer='adam', metrics=['accuracy'])\n",
        "\n",
        "# Train the model\n",
        "early_stopping = EarlyStopping(monitor='val_loss', patience=3, restore_best_weights=True)\n",
        "model.fit(X_train, y_train, validation_split=0.2, epochs=10, batch_size=32, callbacks=[early_stopping])\n",
        "\n",
        "# Evaluate the model\n",
        "loss, accuracy = model.evaluate(X_test, y_test)\n",
        "print(\"Test Loss:\", loss)\n",
        "print(\"Test Accuracy:\", accuracy)\n",
        "\n",
        "# Predict labels\n",
        "y_pred = model.predict(X_test)\n",
        "y_pred = np.argmax(y_pred, axis=1)\n",
        "y_true = np.argmax(np.array(y_test), axis=1)\n",
        "\n",
        "# Calculate precision, recall, and F1-score\n",
        "precision = precision_score(y_true, y_pred, average='weighted')\n",
        "recall = recall_score(y_true, y_pred, average='weighted')\n",
        "f1 = f1_score(y_true, y_pred, average='weighted')\n",
        "\n",
        "print('Precision:', precision)\n",
        "print('Recall:', recall)\n",
        "print('F1-score:', f1)\n"
      ],
      "metadata": {
        "id": "0XiOuaKsrDsN",
        "outputId": "dc23371e-35c5-4a93-9805-815f0e124749",
        "colab": {
          "base_uri": "https://localhost:8080/"
        }
      },
      "execution_count": null,
      "outputs": [
        {
          "output_type": "stream",
          "name": "stdout",
          "text": [
            "Epoch 1/10\n",
            "8337/8337 [==============================] - 1491s 178ms/step - loss: 0.2161 - accuracy: 0.9039 - val_loss: 0.1005 - val_accuracy: 0.9354\n",
            "Epoch 2/10\n",
            "8337/8337 [==============================] - 1458s 175ms/step - loss: 0.0989 - accuracy: 0.9387 - val_loss: 0.0944 - val_accuracy: 0.9358\n",
            "Epoch 3/10\n",
            "8337/8337 [==============================] - 1461s 175ms/step - loss: 0.0886 - accuracy: 0.9421 - val_loss: 0.0941 - val_accuracy: 0.9341\n",
            "Epoch 4/10\n",
            "8337/8337 [==============================] - 1430s 171ms/step - loss: 0.0845 - accuracy: 0.9443 - val_loss: 0.0954 - val_accuracy: 0.9295\n",
            "Epoch 5/10\n",
            "8337/8337 [==============================] - 1397s 168ms/step - loss: 0.0823 - accuracy: 0.9465 - val_loss: 0.0987 - val_accuracy: 0.9289\n",
            "Epoch 6/10\n",
            "8337/8337 [==============================] - 1427s 171ms/step - loss: 0.0798 - accuracy: 0.9487 - val_loss: 0.1077 - val_accuracy: 0.9238\n",
            "2606/2606 [==============================] - 71s 27ms/step - loss: 0.0940 - accuracy: 0.9353\n",
            "Test Loss: 0.09398199617862701\n",
            "Test Accuracy: 0.9352942705154419\n",
            "2606/2606 [==============================] - 70s 27ms/step\n",
            "Precision: 0.934750355025704\n",
            "Recall: 0.9352942587749814\n",
            "F1-score: 0.934560608413207\n"
          ]
        }
      ]
    }
  ]
}