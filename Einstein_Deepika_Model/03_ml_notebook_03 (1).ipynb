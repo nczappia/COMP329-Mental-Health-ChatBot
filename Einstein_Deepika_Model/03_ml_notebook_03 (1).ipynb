{
  "nbformat": 4,
  "nbformat_minor": 0,
  "metadata": {
    "colab": {
      "provenance": []
    },
    "kernelspec": {
      "name": "python3",
      "display_name": "Python 3"
    },
    "language_info": {
      "name": "python"
    }
  },
  "cells": [
    {
      "cell_type": "code",
      "source": [
        "import pandas as pd\n",
        "import numpy as np\n",
        "from sklearn.model_selection import train_test_split\n",
        "from sklearn.metrics import precision_score, recall_score, f1_score\n",
        "from tensorflow.keras.preprocessing.text import Tokenizer\n",
        "from tensorflow.keras.preprocessing.sequence import pad_sequences\n",
        "from tensorflow.keras.models import Sequential\n",
        "from tensorflow.keras.layers import Embedding, Conv1D, MaxPooling1D, GlobalMaxPooling1D, Dense\n",
        "from tensorflow.keras.callbacks import EarlyStopping\n",
        "\n",
        "# Load the dataset\n",
        "data = pd.read_csv(\"emotions.csv\")\n",
        "\n",
        "# Data preprocessing\n",
        "X = data['text']\n",
        "y = data['label']\n",
        "\n",
        "# Tokenization\n",
        "tokenizer = Tokenizer()\n",
        "tokenizer.fit_on_texts(X)\n",
        "X = tokenizer.texts_to_sequences(X)\n",
        "\n",
        "# Padding sequences\n",
        "max_length = 100  # Define your maximum sequence length\n",
        "X = pad_sequences(X, maxlen=max_length)\n",
        "\n",
        "# Convert labels to one-hot encoding\n",
        "num_classes = len(data['label'].unique())\n",
        "y = pd.get_dummies(y)\n",
        "\n",
        "# Split the data into training and testing sets\n",
        "X_train, X_test, y_train, y_test = train_test_split(X, y, test_size=0.2, random_state=42)\n",
        "\n",
        "# Build the CNN model\n",
        "model = Sequential()\n",
        "model.add(Embedding(input_dim=len(tokenizer.word_index)+1, output_dim=64, input_length=max_length))\n",
        "model.add(Conv1D(128, 5, activation='relu'))\n",
        "model.add(MaxPooling1D(5))\n",
        "model.add(Conv1D(128, 5, activation='relu'))\n",
        "model.add(GlobalMaxPooling1D())\n",
        "model.add(Dense(num_classes, activation='softmax'))\n",
        "\n",
        "# Compile the model\n",
        "model.compile(loss='categorical_crossentropy', optimizer='adam', metrics=['accuracy'])\n",
        "\n",
        "# Train the model\n",
        "early_stopping = EarlyStopping(monitor='val_loss', patience=3, restore_best_weights=True)\n",
        "model.fit(X_train, y_train, validation_split=0.2, epochs=10, batch_size=32, callbacks=[early_stopping])\n",
        "\n",
        "# Evaluate the model\n",
        "loss, accuracy = model.evaluate(X_test, y_test)\n",
        "print(\"Test Loss:\", loss)\n",
        "print(\"Test Accuracy:\", accuracy)\n",
        "\n",
        "# Predict labels\n",
        "y_pred = model.predict(X_test)\n",
        "y_pred = np.argmax(y_pred, axis=1)\n",
        "y_true = np.argmax(np.array(y_test), axis=1)\n",
        "\n",
        "# Calculate precision, recall, and F1-score\n",
        "precision = precision_score(y_true, y_pred, average='weighted')\n",
        "recall = recall_score(y_true, y_pred, average='weighted')\n",
        "f1 = f1_score(y_true, y_pred, average='weighted')\n",
        "\n",
        "print('Precision:', precision)\n",
        "print('Recall:', recall)\n",
        "print('F1-score:', f1)"
      ],
      "metadata": {
        "id": "00zbw_162Kuz",
        "outputId": "283c0ea1-f4b2-4896-9c42-555b99599c45",
        "colab": {
          "base_uri": "https://localhost:8080/"
        }
      },
      "execution_count": 1,
      "outputs": [
        {
          "output_type": "stream",
          "name": "stdout",
          "text": [
            "Epoch 1/10\n",
            "8337/8337 [==============================] - 913s 109ms/step - loss: 0.4175 - accuracy: 0.8263 - val_loss: 0.3445 - val_accuracy: 0.8531\n",
            "Epoch 2/10\n",
            "8337/8337 [==============================] - 871s 104ms/step - loss: 0.3214 - accuracy: 0.8592 - val_loss: 0.3296 - val_accuracy: 0.8530\n",
            "Epoch 3/10\n",
            "8337/8337 [==============================] - 893s 107ms/step - loss: 0.2940 - accuracy: 0.8696 - val_loss: 0.3431 - val_accuracy: 0.8521\n",
            "Epoch 4/10\n",
            "8337/8337 [==============================] - 839s 101ms/step - loss: 0.2699 - accuracy: 0.8794 - val_loss: 0.3555 - val_accuracy: 0.8483\n",
            "Epoch 5/10\n",
            "8337/8337 [==============================] - 937s 112ms/step - loss: 0.2495 - accuracy: 0.8881 - val_loss: 0.3818 - val_accuracy: 0.8444\n",
            "2606/2606 [==============================] - 27s 11ms/step - loss: 0.3314 - accuracy: 0.8519\n",
            "Test Loss: 0.33140361309051514\n",
            "Test Accuracy: 0.8519469499588013\n",
            "2606/2606 [==============================] - 27s 10ms/step\n",
            "Precision: 0.8548735285085367\n",
            "Recall: 0.8519469302559919\n",
            "F1-score: 0.8507456873550869\n"
          ]
        }
      ]
    }
  ]
}