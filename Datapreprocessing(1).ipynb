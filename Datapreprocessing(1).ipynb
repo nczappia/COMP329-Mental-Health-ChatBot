{
  "nbformat": 4,
  "nbformat_minor": 0,
  "metadata": {
    "colab": {
      "provenance": [],
      "toc_visible": true
    },
    "kernelspec": {
      "name": "python3",
      "display_name": "Python 3"
    },
    "language_info": {
      "name": "python"
    }
  },
  "cells": [
    {
      "cell_type": "code",
      "execution_count": null,
      "metadata": {
        "colab": {
          "base_uri": "https://localhost:8080/"
        },
        "id": "boMy44sCzzrM",
        "outputId": "877edadd-310c-4b24-8db7-712474eb76a1"
      },
      "outputs": [
        {
          "output_type": "stream",
          "name": "stderr",
          "text": [
            "[nltk_data] Downloading package stopwords to /root/nltk_data...\n",
            "[nltk_data]   Unzipping corpora/stopwords.zip.\n"
          ]
        }
      ],
      "source": [
        "import pandas as pd\n",
        "from sklearn.model_selection import train_test_split\n",
        "from gensim.models import Word2Vec\n",
        "import numpy as np\n",
        "import nltk\n",
        "from nltk.corpus import stopwords\n",
        "import re\n",
        "import string\n",
        "\n",
        "# nltk stopwords\n",
        "nltk.download('stopwords')\n",
        "stop_words = set(stopwords.words('english'))\n",
        "\n",
        "#loading the dataset\n",
        "df = pd.read_csv('emotions.csv')\n",
        "\n",
        "# tokenization and stopwords\n",
        "def clean_and_tokenize(text):\n",
        "    return [word for word in text.split() if word.lower() not in stop_words]\n",
        "\n",
        "df['tokenized'] = df['text'].apply(clean_and_tokenize)\n",
        "\n",
        "# Train Word2Vec\n",
        "model = Word2Vec(sentences=df['tokenized'], vector_size=100, window=5, min_count=1, workers=4)\n",
        "\n",
        "# Function to create sentence vectors by averaging word vectors\n",
        "def sentence_vector(sentence):\n",
        "    #creates word vectors. Checks if the word exists in the w2v models vocabulary\n",
        "    vectors = [model.wv[word] for word in sentence if word in model.wv]\n",
        "    #if if vectors is not empty put in the average vector\n",
        "    if vectors:\n",
        "        return np.mean(vectors, axis=0)\n",
        "    #otherwise put in zeros\n",
        "    else:\n",
        "        return np.zeros(model.vector_size)\n",
        "\n",
        "X = np.array([sentence_vector(sentence) for sentence in df['tokenized']])\n",
        "\n",
        "y = df['label']\n",
        "\n",
        "# Splitting the dataset into training and testing sets\n",
        "X_train, X_test, y_train, y_test = train_test_split(X, y, test_size=0.2, random_state=42)\n"
      ]
    }
  ]
}