{
  "nbformat": 4,
  "nbformat_minor": 0,
  "metadata": {
    "colab": {
      "provenance": []
    },
    "kernelspec": {
      "name": "python3",
      "display_name": "Python 3"
    },
    "language_info": {
      "name": "python"
    }
  },
  "cells": [
    {
      "cell_type": "code",
      "execution_count": 29,
      "metadata": {
        "colab": {
          "base_uri": "https://localhost:8080/",
          "height": 122
        },
        "id": "Oe_sDqD_Uiu6",
        "outputId": "37e1a72a-111a-42fb-f79c-33252b27468b"
      },
      "outputs": [
        {
          "output_type": "stream",
          "name": "stdout",
          "text": [
            "Enter text to analyze sentiment: i feel surprised when i think about the vastness of space\n",
            "1/1 [==============================] - 0s 100ms/step\n",
            "You're feeling surprised! Life has many unexpected moments—hope this one's a pleasant surprise!\n"
          ]
        },
        {
          "output_type": "execute_result",
          "data": {
            "text/plain": [
              "'\\n0 = Sadness (for ex: i have been really depressed lately)\\n1 = Joy (for ex: i am really happy because i just landed a job)\\n2 = Love ()\\n3 = Anger (for ex: the loud neighbors piss me off)\\n4 = Fear (for ex: i feel fearful that ai can takeover)\\n5 = Suprise (for ex: i feel surprised when i think about the vastness of space)\\n'"
            ],
            "application/vnd.google.colaboratory.intrinsic+json": {
              "type": "string"
            }
          },
          "metadata": {},
          "execution_count": 29
        }
      ],
      "source": [
        "import numpy as np\n",
        "import pickle\n",
        "from tensorflow.keras.models import load_model\n",
        "from tensorflow.keras.preprocessing.sequence import pad_sequences\n",
        "\n",
        "# Load the saved model\n",
        "model = load_model('emotions_cnn_model (1).keras')  # Correct the path as needed\n",
        "\n",
        "# Load the tokenizer\n",
        "with open('tokenizer.pickle', 'rb') as handle:\n",
        "    tokenizer = pickle.load(handle)\n",
        "\n",
        "# Define maximum sequence length (should be the same as used during training)\n",
        "max_length = 100\n",
        "\n",
        "def predict_sentiment(text):\n",
        "    # Tokenize and pad the input text\n",
        "    sequence = tokenizer.texts_to_sequences([text])\n",
        "    padded_sequence = pad_sequences(sequence, maxlen=max_length)\n",
        "\n",
        "    # Make a prediction\n",
        "    prediction = model.predict(padded_sequence)\n",
        "    sentiment_class = np.argmax(prediction)  # Get the class with the highest probability\n",
        "    return sentiment_class\n",
        "\n",
        "# Mapping of sentiment classes to responses\n",
        "responses = {\n",
        "    0: \"It seems like you're feeling sad. It's okay to feel this way, and I'm here if you need to talk.\",\n",
        "    1: \"You seem joyful! I'm glad to hear that things are going well for you.\",\n",
        "    2: \"It sounds like you're feeling love. That's beautiful, cherish these moments.\",\n",
        "    3: \"It appears you're feeling angry. It's important to let out your feelings, and I'm here to listen.\",\n",
        "    4: \"You seem to be feeling fearful. It can be tough, but talking about it can help.\",\n",
        "    5: \"You're feeling surprised! Life has many unexpected moments—hope this one's a pleasant surprise!\"\n",
        "}\n",
        "\n",
        "# Get user input\n",
        "input_text = input(\"Enter text to analyze sentiment: \")\n",
        "\n",
        "# Predict sentiment\n",
        "predicted_class = predict_sentiment(input_text)\n",
        "\n",
        "# Output the appropriate response based on the predicted class\n",
        "print(responses[predicted_class])\n",
        "\n",
        "'''\n",
        "0 = Sadness (for ex: i have been really depressed lately)\n",
        "1 = Joy (for ex: i am really happy because i just landed a job)\n",
        "2 = Love ()\n",
        "3 = Anger (for ex: the loud neighbors piss me off)\n",
        "4 = Fear (for ex: i feel fearful that ai can takeover)\n",
        "5 = Suprise (for ex: i feel surprised when i think about the vastness of space)\n",
        "'''"
      ]
    }
  ]
}